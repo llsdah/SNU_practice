{
 "cells": [
  {
   "cell_type": "code",
   "execution_count": 4,
   "id": "95d450e9",
   "metadata": {},
   "outputs": [
    {
     "data": {
      "text/plain": [
       "'1.20.3'"
      ]
     },
     "execution_count": 4,
     "metadata": {},
     "output_type": "execute_result"
    }
   ],
   "source": [
    "#day5 practice \n",
    "import numpy as np\n",
    "np.__version__\n"
   ]
  },
  {
   "cell_type": "code",
   "execution_count": 7,
   "id": "b3e31b1a",
   "metadata": {},
   "outputs": [
    {
     "data": {
      "text/plain": [
       "array([1, 2, 3])"
      ]
     },
     "execution_count": 7,
     "metadata": {},
     "output_type": "execute_result"
    }
   ],
   "source": [
    "vector_row = np.array([1,2,3]) # 1차원 행터\n",
    "vector_row"
   ]
  },
  {
   "cell_type": "code",
   "execution_count": 13,
   "id": "b64c61dc",
   "metadata": {},
   "outputs": [
    {
     "data": {
      "text/plain": [
       "(3, 1)"
      ]
     },
     "execution_count": 13,
     "metadata": {},
     "output_type": "execute_result"
    }
   ],
   "source": [
    "vector_column = np.array([[1],\n",
    "                          [2],\n",
    "                          [3]]) #밖[] 안에 있는것 3개 그 안에 [] 안에 있는것 1개 \n",
    "vector_column\n",
    "vector_column.shape # 3,1 3행 1열 "
   ]
  },
  {
   "cell_type": "code",
   "execution_count": 15,
   "id": "57ef80d0",
   "metadata": {},
   "outputs": [
    {
     "ename": "SyntaxError",
     "evalue": "unexpected EOF while parsing (Temp/ipykernel_10052/2886584256.py, line 1)",
     "output_type": "error",
     "traceback": [
      "\u001b[1;36m  File \u001b[1;32m\"C:\\Users\\hong\\AppData\\Local\\Temp/ipykernel_10052/2886584256.py\"\u001b[1;36m, line \u001b[1;32m1\u001b[0m\n\u001b[1;33m    print(type(vector_row) # 클래스 출력\u001b[0m\n\u001b[1;37m                                     ^\u001b[0m\n\u001b[1;31mSyntaxError\u001b[0m\u001b[1;31m:\u001b[0m unexpected EOF while parsing\n"
     ]
    }
   ],
   "source": [
    "print(type(vector_row)) # 클래스 출력  "
   ]
  },
  {
   "cell_type": "code",
   "execution_count": 21,
   "id": "636b2a7e",
   "metadata": {},
   "outputs": [
    {
     "data": {
      "text/plain": [
       "array([9.34609790e-307, 6.23037657e-307, 8.90104239e-307])"
      ]
     },
     "execution_count": 21,
     "metadata": {},
     "output_type": "execute_result"
    }
   ],
   "source": [
    "temp = np.ndarray((3,)) # 랜덤한 수를 추출해 만드렁 주지만 권장 x\n",
    "temp"
   ]
  },
  {
   "cell_type": "code",
   "execution_count": 27,
   "id": "657e3cda",
   "metadata": {},
   "outputs": [
    {
     "data": {
      "text/plain": [
       "matrix([[1, 2, 5],\n",
       "        [3, 4, 6],\n",
       "        [7, 8, 9]])"
      ]
     },
     "execution_count": 27,
     "metadata": {},
     "output_type": "execute_result"
    }
   ],
   "source": [
    "A = np.mat('[1 2 5;3 4 6;7 8 9]') # 2차원 매트릭스 ';' 로 행 단위 구분 \n",
    "A"
   ]
  },
  {
   "cell_type": "code",
   "execution_count": 29,
   "id": "13b5dfbb",
   "metadata": {},
   "outputs": [
    {
     "data": {
      "text/plain": [
       "matrix([[1, 3, 7],\n",
       "        [2, 4, 8],\n",
       "        [5, 6, 9]])"
      ]
     },
     "execution_count": 29,
     "metadata": {},
     "output_type": "execute_result"
    }
   ],
   "source": [
    "A.T # transpose 한것 줄력 "
   ]
  },
  {
   "cell_type": "code",
   "execution_count": 51,
   "id": "096a60cf",
   "metadata": {},
   "outputs": [
    {
     "data": {
      "text/plain": [
       "matrix([[ 42,  50,  62],\n",
       "        [ 57,  70,  93],\n",
       "        [ 94, 118, 164]])"
      ]
     },
     "execution_count": 51,
     "metadata": {},
     "output_type": "execute_result"
    }
   ],
   "source": [
    "from scipy import linalg  # linalg  역핼렬 , 행력 값 등을 구해줍\n",
    "\n",
    "linalg.inv(A) # inv invers 값 \n",
    "linalg.det(A) # det 행렬식 값 산출 \n",
    "\n",
    "value, vector=linalg.eig(A) # eigenvalue, eigenvector  고유값과 고유백터 \n",
    "\n",
    "value # 고유값 , \n",
    "vector # 고유 벡터 \n",
    "\n",
    "u, s, vt = linalg.svd(A) # 특이값 분해 Singular Value Decomposition \n",
    "s\n",
    "\n",
    "A.dot(A) # 내적 의미 "
   ]
  },
  {
   "cell_type": "code",
   "execution_count": 56,
   "id": "c3181ae8",
   "metadata": {},
   "outputs": [
    {
     "data": {
      "text/plain": [
       "array([[[9.21003679e-312, 3.16202013e-322],\n",
       "        [0.00000000e+000, 0.00000000e+000],\n",
       "        [1.13073288e+277, 1.60469626e-051]],\n",
       "\n",
       "       [[2.92804584e-057, 5.74387041e+174],\n",
       "        [2.74261703e-057, 2.03857435e+160],\n",
       "        [3.85663882e-057, 2.14786771e+184]]])"
      ]
     },
     "execution_count": 56,
     "metadata": {},
     "output_type": "execute_result"
    }
   ],
   "source": [
    "rend_vec = np.empty((2,3,2)) # 3차원 2, 2차원 3, 1차원 2 임의값\n",
    "rend_vec"
   ]
  },
  {
   "cell_type": "code",
   "execution_count": null,
   "id": "77367930",
   "metadata": {},
   "outputs": [],
   "source": [
    "zero_mat = np.zeros((3,2)) # 0 g행열"
   ]
  },
  {
   "cell_type": "code",
   "execution_count": null,
   "id": "53d6de79",
   "metadata": {},
   "outputs": [],
   "source": [
    "one_matrix = np.ones((3,2)) # 1행렬"
   ]
  },
  {
   "cell_type": "code",
   "execution_count": 58,
   "id": "95c342a2",
   "metadata": {},
   "outputs": [
    {
     "data": {
      "text/plain": [
       "array([[[7, 7],\n",
       "        [7, 7]],\n",
       "\n",
       "       [[7, 7],\n",
       "        [7, 7]]])"
      ]
     },
     "execution_count": 58,
     "metadata": {},
     "output_type": "execute_result"
    }
   ],
   "source": [
    "num_mat = np.full((2,2,2), 7) # 전체 에 7을 채워 넣습니다.\n",
    "num_mat"
   ]
  },
  {
   "cell_type": "code",
   "execution_count": 64,
   "id": "efd8d6b7",
   "metadata": {},
   "outputs": [
    {
     "name": "stdout",
     "output_type": "stream",
     "text": [
      "  (1, 1)\t1\n",
      "  (2, 0)\t3\n"
     ]
    }
   ],
   "source": [
    "# 희소 행렬 만들기 0이 많은 행렬로 \n",
    "from scipy import sparse \n",
    "\n",
    "temp = np.array([[0,0],\n",
    "                [0,1],\n",
    "                [3,0]])\n",
    "# CSR (compressed sparse row) 행렬\n",
    "csr_mat = sparse.csr_matrix(temp)\n",
    "print(csr_mat)"
   ]
  },
  {
   "cell_type": "code",
   "execution_count": 71,
   "id": "4ae5d311",
   "metadata": {},
   "outputs": [
    {
     "data": {
      "text/plain": [
       "matrix([[1, 2, 5],\n",
       "        [3, 4, 6],\n",
       "        [7, 8, 9]])"
      ]
     },
     "execution_count": 71,
     "metadata": {},
     "output_type": "execute_result"
    }
   ],
   "source": [
    "# 원소추출\n",
    "A = np.mat('[1 2 5;3 4 6;7 8 9]') # 2차원 매트릭스 ';' 로 행 단위 구분 \n",
    "\n",
    "A[2] # 2행 출력 \n",
    "A[2,1] # 2행 1열 출력 \n",
    "A[:] #원소 전체 출력 "
   ]
  },
  {
   "cell_type": "code",
   "execution_count": 74,
   "id": "36befaab",
   "metadata": {},
   "outputs": [
    {
     "data": {
      "text/plain": [
       "2.581988897471611"
      ]
     },
     "execution_count": 74,
     "metadata": {},
     "output_type": "execute_result"
    }
   ],
   "source": [
    "A.shape #원소 차원 확인 \n",
    "A.size # 원소 갯수 \n",
    "A.ndim # 차원 수1\n",
    "np.max(A, axis=0) # axis기준은 행인데 1열의 1행2행3행에서의 최대 값 즉, 각열의 최대값\n",
    "np.max(A, axis=1) # axis기준은 열인데 1행의 1열2열3열에서의 최대 값 즉, 걱행의 최대값\n",
    "\n",
    "\n",
    "np.var(A) #분산\n",
    "np.std(A) # 표준편차\n",
    "np.mean(A) # 평균\n"
   ]
  },
  {
   "cell_type": "code",
   "execution_count": 76,
   "id": "2e97efc2",
   "metadata": {},
   "outputs": [
    {
     "data": {
      "text/plain": [
       "array([[ 1,  2,  3,  4,  5,  6],\n",
       "       [ 7,  8,  9, 10, 11, 12]])"
      ]
     },
     "execution_count": 76,
     "metadata": {},
     "output_type": "execute_result"
    }
   ],
   "source": [
    "# 4x3 행렬을 만듭니다.\n",
    "matrix = np.array([[1, 2, 3],\n",
    "                   [4, 5, 6],\n",
    "                   [7, 8, 9],\n",
    "                   [10, 11, 12]])\n",
    "\n",
    "# 2x6 행렬로 크기를 바꿉니다.\n",
    "matrix.reshape(2, 6)"
   ]
  },
  {
   "cell_type": "code",
   "execution_count": 79,
   "id": "ca0dc6e6",
   "metadata": {},
   "outputs": [
    {
     "data": {
      "text/plain": [
       "array([ 1,  2,  3,  4,  5,  6,  7,  8,  9, 10, 11, 12])"
      ]
     },
     "execution_count": 79,
     "metadata": {},
     "output_type": "execute_result"
    }
   ],
   "source": [
    "matrix.flatten() # 메트릭스 펼치기 "
   ]
  },
  {
   "cell_type": "code",
   "execution_count": 8,
   "id": "b9b5ffef",
   "metadata": {},
   "outputs": [
    {
     "ename": "NameError",
     "evalue": "name 'np' is not defined",
     "output_type": "error",
     "traceback": [
      "\u001b[1;31m---------------------------------------------------------------------------\u001b[0m",
      "\u001b[1;31mNameError\u001b[0m                                 Traceback (most recent call last)",
      "\u001b[1;32m~\\AppData\\Local\\Temp/ipykernel_932/4144443602.py\u001b[0m in \u001b[0;36m<module>\u001b[1;34m\u001b[0m\n\u001b[1;32m----> 1\u001b[1;33m matrix = np.array([[1, 1, 1],\n\u001b[0m\u001b[0;32m      2\u001b[0m                    \u001b[1;33m[\u001b[0m\u001b[1;36m1\u001b[0m\u001b[1;33m,\u001b[0m \u001b[1;36m1\u001b[0m\u001b[1;33m,\u001b[0m \u001b[1;36m10\u001b[0m\u001b[1;33m]\u001b[0m\u001b[1;33m,\u001b[0m\u001b[1;33m\u001b[0m\u001b[1;33m\u001b[0m\u001b[0m\n\u001b[0;32m      3\u001b[0m                    [1, 1, 15]])\n",
      "\u001b[1;31mNameError\u001b[0m: name 'np' is not defined"
     ]
    }
   ],
   "source": []
  },
  {
   "cell_type": "code",
   "execution_count": null,
   "id": "0b9779d1",
   "metadata": {},
   "outputs": [],
   "source": [
    "# 5_2 maxrix compytation"
   ]
  },
  {
   "cell_type": "code",
   "execution_count": 14,
   "id": "ac5a6d90",
   "metadata": {},
   "outputs": [
    {
     "data": {
      "text/plain": [
       "array([ 1,  1, 15])"
      ]
     },
     "execution_count": 14,
     "metadata": {},
     "output_type": "execute_result"
    }
   ],
   "source": [
    "import numpy as np\n",
    "\n",
    "from scipy import linalg\n",
    "\n",
    "A = np.array([[1, 1, 1],\n",
    "              [1, 1, 10],\n",
    "              [1, 1, 15]])\n",
    "\n",
    "np.linalg.matrix_rank(A) # 랭그 구하기 \n",
    "A.diagonal() # 대각 원소 반환\n",
    "A.diagonal().copy() # 반환 행렬 배열 변환 위한 복사 \n",
    "A.trace() # 대각합 계산\n"
   ]
  },
  {
   "cell_type": "code",
   "execution_count": 15,
   "id": "552183b0",
   "metadata": {},
   "outputs": [
    {
     "data": {
      "text/plain": [
       "array([[  3,   3,  26],\n",
       "       [ 12,  12, 161],\n",
       "       [ 17,  17, 236]])"
      ]
     },
     "execution_count": 15,
     "metadata": {},
     "output_type": "execute_result"
    }
   ],
   "source": [
    "A @ A # 행열 곱 입니다 @\n"
   ]
  },
  {
   "cell_type": "code",
   "execution_count": 16,
   "id": "3973d630",
   "metadata": {},
   "outputs": [
    {
     "data": {
      "text/plain": [
       "array([[  1,   1,   1],\n",
       "       [  1,   1, 100],\n",
       "       [  1,   1, 225]])"
      ]
     },
     "execution_count": 16,
     "metadata": {},
     "output_type": "execute_result"
    }
   ],
   "source": [
    "A*A  # 해당 원소끼리의 곱입니다  주의! "
   ]
  },
  {
   "cell_type": "code",
   "execution_count": 20,
   "id": "79e67526",
   "metadata": {},
   "outputs": [
    {
     "data": {
      "text/plain": [
       "((3, 3),\n",
       " (3,),\n",
       " (3, 3),\n",
       " array([[1.81705983e+01, 0.00000000e+00, 0.00000000e+00],\n",
       "        [0.00000000e+00, 1.35253727e+00, 0.00000000e+00],\n",
       "        [0.00000000e+00, 0.00000000e+00, 1.72734140e-16]]))"
      ]
     },
     "execution_count": 20,
     "metadata": {},
     "output_type": "execute_result"
    }
   ],
   "source": [
    "# SVD 정확하게 \n",
    "U,s , Vh = linalg.svd(A)\n",
    "M,N = A.shape\n",
    "Sig = linalg.diagsvd(s,M,N)\n",
    "U.shape, s.shape, Vh.shape, Sig"
   ]
  },
  {
   "cell_type": "code",
   "execution_count": 21,
   "id": "acfb4689",
   "metadata": {},
   "outputs": [
    {
     "data": {
      "text/plain": [
       "array([0.5488135 , 0.71518937, 0.60276338])"
      ]
     },
     "execution_count": 21,
     "metadata": {},
     "output_type": "execute_result"
    }
   ],
   "source": [
    "# 난수 생성입니다. \n",
    "np.random.seed(0) # 초깃값 지정\n",
    "\n",
    "np.random.random(3) # 0~1.0 사이의 세개의 실수 난수생성 "
   ]
  },
  {
   "cell_type": "code",
   "execution_count": 38,
   "id": "706291ed",
   "metadata": {},
   "outputs": [
    {
     "data": {
      "text/plain": [
       "array([0, 0, 4])"
      ]
     },
     "execution_count": 38,
     "metadata": {},
     "output_type": "execute_result"
    }
   ],
   "source": [
    "np.random.randint(0,11,3) # 0이상와 11미만 사이의 정수 난수 3개 생성"
   ]
  },
  {
   "cell_type": "code",
   "execution_count": 39,
   "id": "fc6b7614",
   "metadata": {},
   "outputs": [
    {
     "data": {
      "text/plain": [
       "array([1.46274045, 1.53502913, 0.56644004])"
      ]
     },
     "execution_count": 39,
     "metadata": {},
     "output_type": "execute_result"
    }
   ],
   "source": [
    "np.random.normal(0.0,1.0,3) # 평균이 0 표준평차 1.0 정규분포 세개의 수 "
   ]
  },
  {
   "cell_type": "code",
   "execution_count": 40,
   "id": "12f68477",
   "metadata": {},
   "outputs": [
    {
     "data": {
      "text/plain": [
       "array([ 0.76214981, -0.57750063, -0.25321656])"
      ]
     },
     "execution_count": 40,
     "metadata": {},
     "output_type": "execute_result"
    }
   ],
   "source": [
    "np.random.logistic(0.0,1.0,3)# 평균 0, 스케일이 1인 로지스틱분포에서 세개의 수 봅은"
   ]
  },
  {
   "cell_type": "code",
   "execution_count": 41,
   "id": "7091d695",
   "metadata": {},
   "outputs": [
    {
     "data": {
      "text/plain": [
       "array([1.6976312 , 1.06022547, 1.66676672])"
      ]
     },
     "execution_count": 41,
     "metadata": {},
     "output_type": "execute_result"
    }
   ],
   "source": [
    "# 1.0보다 크거나 같고 2.0보다 작은 세 개의 수를 뽑습니다.\n",
    "np.random.uniform(1.0, 2.0, 3)"
   ]
  }
 ],
 "metadata": {
  "kernelspec": {
   "display_name": "Python 3 (ipykernel)",
   "language": "python",
   "name": "python3"
  },
  "language_info": {
   "codemirror_mode": {
    "name": "ipython",
    "version": 3
   },
   "file_extension": ".py",
   "mimetype": "text/x-python",
   "name": "python",
   "nbconvert_exporter": "python",
   "pygments_lexer": "ipython3",
   "version": "3.9.7"
  }
 },
 "nbformat": 4,
 "nbformat_minor": 5
}
