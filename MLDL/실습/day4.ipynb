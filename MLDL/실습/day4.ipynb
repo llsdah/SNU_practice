{
 "cells": [
  {
   "cell_type": "code",
   "execution_count": 3,
   "id": "b96b8e80",
   "metadata": {},
   "outputs": [],
   "source": [
    "# day 4 크롤링 관련입니다. \n",
    "import requests\n",
    "from bs4 import BeautifulSoup\n",
    "import time\n",
    "import pandas as pd\n",
    "import numpy as np\n",
    "import os"
   ]
  },
  {
   "cell_type": "code",
   "execution_count": 5,
   "id": "8d16ee23",
   "metadata": {},
   "outputs": [
    {
     "data": {
      "text/plain": [
       "200"
      ]
     },
     "execution_count": 5,
     "metadata": {},
     "output_type": "execute_result"
    }
   ],
   "source": [
    "r = requests.get(\"http://www.wooribank.com/\",\n",
    "                timeout =15,\n",
    "                headers = {\n",
    "                    \"user-agent\" : \"Mozilla/5.0 (Windows NT 10.0; Win64; x64) AppleWebKit/537.36 (KHTML, like Gecko) Chrome/101.0.4951.67 Safari/537.36\"\n",
    "                })\n",
    "r.encoding = \"utf-8\" # encoding 방식 지정 중요!\n",
    "\n",
    "r.status_code # 200 대이면 정상입니다. "
   ]
  },
  {
   "cell_type": "code",
   "execution_count": 9,
   "id": "3a7125a2",
   "metadata": {},
   "outputs": [
    {
     "name": "stdout",
     "output_type": "stream",
     "text": [
      "<title>우리은행</title>\n",
      "우리은행\n"
     ]
    }
   ],
   "source": [
    "soup = BeautifulSoup(r.content, 'html.parser')\n",
    "print(soup.title)\n",
    "print(soup.title.string)"
   ]
  },
  {
   "cell_type": "code",
   "execution_count": 11,
   "id": "05fce0cd",
   "metadata": {},
   "outputs": [
    {
     "data": {
      "text/plain": [
       "[<div class=\"tit-5 absolute js-display-hover\">\n",
       " <a class=\"js-display-hover-trigger\" href=\"https://spot.wooribank.com/pot/Dream?withyou=po\"><img alt=\"금융상품\" src=\"https://simg.wooribank.com/img/intro/header/btn_tit_4_intro_new_211130.png\"/></a>\n",
       " <div class=\"js-display-hover-area level2\">\n",
       " <span class=\"arrow\"></span>\n",
       " <ul class=\"menu\">\n",
       " <li class=\"title\"><a href=\"https://spot.wooribank.com/pot/Dream?withyou=po\">금융상품</a></li>\n",
       " <li><a href=\"https://spot.wooribank.com/pot/Dream?withyou=PORMG0002\">추천상품</a></li>\n",
       " <li><a href=\"https://spot.wooribank.com/pot/Dream?withyou=PODEP0001\">예금</a></li>\n",
       " <li><a href=\"https://spot.wooribank.com/pot/Dream?withyou=OWFDM0003\">펀드</a></li>\n",
       " <li><a href=\"https://spot.wooribank.com/pot/Dream?withyou=ln\">대출</a></li>\n",
       " <li><a href=\"https://spot.wooribank.com/pot/Dream?withyou=fx\">외환</a></li>\n",
       " <li><a href=\"https://spot.wooribank.com/pot/Dream?withyou=POGLD0001\">골드</a></li>\n",
       " <li><a href=\"https://spot.wooribank.com/pot/Dream?withyou=POTRT0001\">신탁</a></li>\n",
       " <li><a href=\"https://spot.wooribank.com/pot/Dream?withyou=POBAC0001\">보험</a></li>\n",
       " <li><a href=\"https://svc.wooribank.com/svc/Dream?withyou=rp\">퇴직연금</a></li>\n",
       " <li><a href=\"https://spot.wooribank.com/pot/Dream?withyou=OWMNG0014\">시니어플러스 은퇴설계</a></li>\n",
       " <li><a href=\"https://spot.wooribank.com/pot/Dream?withyou=IMISA0044\">ISA</a></li>\n",
       " </ul>\n",
       " </div>\n",
       " </div>]"
      ]
     },
     "execution_count": 11,
     "metadata": {},
     "output_type": "execute_result"
    }
   ],
   "source": [
    "soup.select(\"div[class='tit-5 absolute js-display-hover']\")"
   ]
  },
  {
   "cell_type": "code",
   "execution_count": 17,
   "id": "a05395c1",
   "metadata": {},
   "outputs": [
    {
     "name": "stdout",
     "output_type": "stream",
     "text": [
      "금융상품\n",
      "추천상품\n",
      "예금\n",
      "펀드\n",
      "대출\n",
      "외환\n",
      "골드\n",
      "신탁\n",
      "보험\n",
      "퇴직연금\n",
      "시니어플러스 은퇴설계\n",
      "ISA\n"
     ]
    }
   ],
   "source": [
    "for item in soup.select(\"div[class='tit-5 absolute js-display-hover'] li\"):\n",
    "    print(item.text) # select_one은 한개 == find , select = find_all"
   ]
  },
  {
   "cell_type": "code",
   "execution_count": 23,
   "id": "0cb542e9",
   "metadata": {},
   "outputs": [
    {
     "name": "stdout",
     "output_type": "stream",
     "text": [
      "네이버 금융\n",
      "2,604.24\n"
     ]
    }
   ],
   "source": [
    "# 실습문제 풀어보자 \n",
    "# 오늘의 코스피 받아오기 \n",
    "\n",
    "r = requests.get(\"https://finance.naver.com/\")\n",
    "r.encoding = \"utf-8\" # encoding 방식 지정 중요!\n",
    "\n",
    "r.status_code # 200 대이면 정상입니다. \n",
    "\n",
    "#soup.select(\"div[class='tit-5 absolute js-display-hover']\")\n",
    "soup = BeautifulSoup(r.content, 'html.parser')\n",
    "print(soup.title.string)\n",
    "kospi = soup.select_one(\"span[class='num']\")\n",
    "print(kospi.string)"
   ]
  },
  {
   "cell_type": "code",
   "execution_count": null,
   "id": "69cd457b",
   "metadata": {},
   "outputs": [],
   "source": []
  },
  {
   "cell_type": "code",
   "execution_count": null,
   "id": "5197eb6c",
   "metadata": {},
   "outputs": [],
   "source": []
  },
  {
   "cell_type": "code",
   "execution_count": 25,
   "id": "7483d156",
   "metadata": {},
   "outputs": [
    {
     "name": "stdout",
     "output_type": "stream",
     "text": [
      "Collecting finance-datareader\n",
      "  Downloading finance_datareader-0.9.33-py3-none-any.whl (48 kB)\n",
      "Collecting requests-file\n",
      "  Downloading requests_file-1.5.1-py2.py3-none-any.whl (3.7 kB)\n",
      "Requirement already satisfied: tqdm in c:\\users\\hong\\anaconda3\\lib\\site-packages (from finance-datareader) (4.62.3)\n",
      "Requirement already satisfied: pandas>=0.19.2 in c:\\users\\hong\\anaconda3\\lib\\site-packages (from finance-datareader) (1.3.4)\n",
      "Requirement already satisfied: requests>=2.3.0 in c:\\users\\hong\\anaconda3\\lib\\site-packages (from finance-datareader) (2.26.0)\n",
      "Requirement already satisfied: lxml in c:\\users\\hong\\anaconda3\\lib\\site-packages (from finance-datareader) (4.6.3)\n",
      "Requirement already satisfied: numpy>=1.17.3 in c:\\users\\hong\\anaconda3\\lib\\site-packages (from pandas>=0.19.2->finance-datareader) (1.20.3)\n",
      "Requirement already satisfied: pytz>=2017.3 in c:\\users\\hong\\anaconda3\\lib\\site-packages (from pandas>=0.19.2->finance-datareader) (2021.3)\n",
      "Requirement already satisfied: python-dateutil>=2.7.3 in c:\\users\\hong\\anaconda3\\lib\\site-packages (from pandas>=0.19.2->finance-datareader) (2.8.2)\n",
      "Requirement already satisfied: six>=1.5 in c:\\users\\hong\\anaconda3\\lib\\site-packages (from python-dateutil>=2.7.3->pandas>=0.19.2->finance-datareader) (1.16.0)\n",
      "Requirement already satisfied: charset-normalizer~=2.0.0 in c:\\users\\hong\\anaconda3\\lib\\site-packages (from requests>=2.3.0->finance-datareader) (2.0.4)\n",
      "Requirement already satisfied: idna<4,>=2.5 in c:\\users\\hong\\anaconda3\\lib\\site-packages (from requests>=2.3.0->finance-datareader) (3.2)\n",
      "Requirement already satisfied: certifi>=2017.4.17 in c:\\users\\hong\\anaconda3\\lib\\site-packages (from requests>=2.3.0->finance-datareader) (2021.10.8)\n",
      "Requirement already satisfied: urllib3<1.27,>=1.21.1 in c:\\users\\hong\\anaconda3\\lib\\site-packages (from requests>=2.3.0->finance-datareader) (1.26.7)\n",
      "Requirement already satisfied: colorama in c:\\users\\hong\\anaconda3\\lib\\site-packages (from tqdm->finance-datareader) (0.4.4)\n",
      "Installing collected packages: requests-file, finance-datareader\n",
      "Successfully installed finance-datareader-0.9.33 requests-file-1.5.1\n"
     ]
    }
   ],
   "source": [
    "# finance date 크롤링 \n",
    "!pip install finance-datareader\n",
    "import FinanceDataReader as fdr\n",
    "import re #정규식 부분입니다. "
   ]
  },
  {
   "cell_type": "code",
   "execution_count": 28,
   "id": "47a7a8b0",
   "metadata": {},
   "outputs": [
    {
     "data": {
      "text/html": [
       "<div>\n",
       "<style scoped>\n",
       "    .dataframe tbody tr th:only-of-type {\n",
       "        vertical-align: middle;\n",
       "    }\n",
       "\n",
       "    .dataframe tbody tr th {\n",
       "        vertical-align: top;\n",
       "    }\n",
       "\n",
       "    .dataframe thead th {\n",
       "        text-align: right;\n",
       "    }\n",
       "</style>\n",
       "<table border=\"1\" class=\"dataframe\">\n",
       "  <thead>\n",
       "    <tr style=\"text-align: right;\">\n",
       "      <th></th>\n",
       "      <th>Close</th>\n",
       "      <th>Open</th>\n",
       "      <th>High</th>\n",
       "      <th>Low</th>\n",
       "      <th>Volume</th>\n",
       "      <th>Change</th>\n",
       "    </tr>\n",
       "    <tr>\n",
       "      <th>Date</th>\n",
       "      <th></th>\n",
       "      <th></th>\n",
       "      <th></th>\n",
       "      <th></th>\n",
       "      <th></th>\n",
       "      <th></th>\n",
       "    </tr>\n",
       "  </thead>\n",
       "  <tbody>\n",
       "    <tr>\n",
       "      <th>2019-01-02</th>\n",
       "      <td>39.48</td>\n",
       "      <td>38.72</td>\n",
       "      <td>39.71</td>\n",
       "      <td>38.56</td>\n",
       "      <td>148160000.0</td>\n",
       "      <td>0.0010</td>\n",
       "    </tr>\n",
       "    <tr>\n",
       "      <th>2019-01-03</th>\n",
       "      <td>35.55</td>\n",
       "      <td>35.99</td>\n",
       "      <td>36.43</td>\n",
       "      <td>35.50</td>\n",
       "      <td>365250000.0</td>\n",
       "      <td>-0.0995</td>\n",
       "    </tr>\n",
       "    <tr>\n",
       "      <th>2019-01-04</th>\n",
       "      <td>37.06</td>\n",
       "      <td>36.13</td>\n",
       "      <td>37.14</td>\n",
       "      <td>35.95</td>\n",
       "      <td>234430000.0</td>\n",
       "      <td>0.0425</td>\n",
       "    </tr>\n",
       "  </tbody>\n",
       "</table>\n",
       "</div>"
      ],
      "text/plain": [
       "            Close   Open   High    Low       Volume  Change\n",
       "Date                                                       \n",
       "2019-01-02  39.48  38.72  39.71  38.56  148160000.0  0.0010\n",
       "2019-01-03  35.55  35.99  36.43  35.50  365250000.0 -0.0995\n",
       "2019-01-04  37.06  36.13  37.14  35.95  234430000.0  0.0425"
      ]
     },
     "execution_count": 28,
     "metadata": {},
     "output_type": "execute_result"
    }
   ],
   "source": [
    "#투자 지표 수집이 가능합니다. \n",
    "fdr.DataReader('AAPL','2019').head(3)  # 주의 쌍따움표는 안됩니다. 왜 안되지?\n",
    "#fdr.DataReader('AAPL', '2017').head(3)"
   ]
  },
  {
   "cell_type": "code",
   "execution_count": 31,
   "id": "8e29078a",
   "metadata": {},
   "outputs": [
    {
     "data": {
      "text/html": [
       "<div>\n",
       "<style scoped>\n",
       "    .dataframe tbody tr th:only-of-type {\n",
       "        vertical-align: middle;\n",
       "    }\n",
       "\n",
       "    .dataframe tbody tr th {\n",
       "        vertical-align: top;\n",
       "    }\n",
       "\n",
       "    .dataframe thead th {\n",
       "        text-align: right;\n",
       "    }\n",
       "</style>\n",
       "<table border=\"1\" class=\"dataframe\">\n",
       "  <thead>\n",
       "    <tr style=\"text-align: right;\">\n",
       "      <th></th>\n",
       "      <th>Close</th>\n",
       "      <th>Open</th>\n",
       "      <th>High</th>\n",
       "      <th>Low</th>\n",
       "      <th>Volume</th>\n",
       "      <th>Change</th>\n",
       "    </tr>\n",
       "    <tr>\n",
       "      <th>Date</th>\n",
       "      <th></th>\n",
       "      <th></th>\n",
       "      <th></th>\n",
       "      <th></th>\n",
       "      <th></th>\n",
       "      <th></th>\n",
       "    </tr>\n",
       "  </thead>\n",
       "  <tbody>\n",
       "    <tr>\n",
       "      <th>2019-01-02</th>\n",
       "      <td>0.21</td>\n",
       "      <td>0.2</td>\n",
       "      <td>0.21</td>\n",
       "      <td>0.20</td>\n",
       "      <td>6400.0</td>\n",
       "      <td>0.1667</td>\n",
       "    </tr>\n",
       "    <tr>\n",
       "      <th>2019-01-03</th>\n",
       "      <td>0.18</td>\n",
       "      <td>0.2</td>\n",
       "      <td>0.20</td>\n",
       "      <td>0.18</td>\n",
       "      <td>5720.0</td>\n",
       "      <td>-0.1429</td>\n",
       "    </tr>\n",
       "    <tr>\n",
       "      <th>2019-01-04</th>\n",
       "      <td>0.20</td>\n",
       "      <td>0.2</td>\n",
       "      <td>0.20</td>\n",
       "      <td>0.20</td>\n",
       "      <td>12670.0</td>\n",
       "      <td>0.1111</td>\n",
       "    </tr>\n",
       "  </tbody>\n",
       "</table>\n",
       "</div>"
      ],
      "text/plain": [
       "            Close  Open  High   Low   Volume  Change\n",
       "Date                                                \n",
       "2019-01-02   0.21   0.2  0.21  0.20   6400.0  0.1667\n",
       "2019-01-03   0.18   0.2  0.20  0.18   5720.0 -0.1429\n",
       "2019-01-04   0.20   0.2  0.20  0.20  12670.0  0.1111"
      ]
     },
     "execution_count": 31,
     "metadata": {},
     "output_type": "execute_result"
    }
   ],
   "source": [
    "# 기간 설정도 간으합니다.\n",
    "fdr.DataReader('AMAZ','2019/01/01','2019/12/31').head(3) #기간을 해보는 것 - / 붙여쓰기 다 가능합니다. \n",
    "# USD/KRW 환율입니다. \n"
   ]
  },
  {
   "cell_type": "code",
   "execution_count": 33,
   "id": "711a6adc",
   "metadata": {},
   "outputs": [
    {
     "data": {
      "text/html": [
       "<div>\n",
       "<style scoped>\n",
       "    .dataframe tbody tr th:only-of-type {\n",
       "        vertical-align: middle;\n",
       "    }\n",
       "\n",
       "    .dataframe tbody tr th {\n",
       "        vertical-align: top;\n",
       "    }\n",
       "\n",
       "    .dataframe thead th {\n",
       "        text-align: right;\n",
       "    }\n",
       "</style>\n",
       "<table border=\"1\" class=\"dataframe\">\n",
       "  <thead>\n",
       "    <tr style=\"text-align: right;\">\n",
       "      <th></th>\n",
       "      <th>Symbol</th>\n",
       "      <th>Market</th>\n",
       "      <th>Name</th>\n",
       "      <th>Sector</th>\n",
       "      <th>Industry</th>\n",
       "      <th>ListingDate</th>\n",
       "      <th>SettleMonth</th>\n",
       "      <th>Representative</th>\n",
       "      <th>HomePage</th>\n",
       "      <th>Region</th>\n",
       "    </tr>\n",
       "  </thead>\n",
       "  <tbody>\n",
       "    <tr>\n",
       "      <th>0</th>\n",
       "      <td>060310</td>\n",
       "      <td>KOSDAQ</td>\n",
       "      <td>3S</td>\n",
       "      <td>전자부품 제조업</td>\n",
       "      <td>반도체 웨이퍼 캐리어</td>\n",
       "      <td>2002-04-23</td>\n",
       "      <td>03월</td>\n",
       "      <td>김세완</td>\n",
       "      <td>http://www.3sref.com</td>\n",
       "      <td>서울특별시</td>\n",
       "    </tr>\n",
       "    <tr>\n",
       "      <th>1</th>\n",
       "      <td>095570</td>\n",
       "      <td>KOSPI</td>\n",
       "      <td>AJ네트웍스</td>\n",
       "      <td>산업용 기계 및 장비 임대업</td>\n",
       "      <td>렌탈(파렛트, OA장비, 건설장비)</td>\n",
       "      <td>2015-08-21</td>\n",
       "      <td>12월</td>\n",
       "      <td>박대현, 손삼달</td>\n",
       "      <td>http://www.ajnet.co.kr</td>\n",
       "      <td>서울특별시</td>\n",
       "    </tr>\n",
       "    <tr>\n",
       "      <th>2</th>\n",
       "      <td>006840</td>\n",
       "      <td>KOSPI</td>\n",
       "      <td>AK홀딩스</td>\n",
       "      <td>기타 금융업</td>\n",
       "      <td>지주사업</td>\n",
       "      <td>1999-08-11</td>\n",
       "      <td>12월</td>\n",
       "      <td>채형석, 이석주(각자 대표이사)</td>\n",
       "      <td>http://www.aekyunggroup.co.kr</td>\n",
       "      <td>서울특별시</td>\n",
       "    </tr>\n",
       "    <tr>\n",
       "      <th>3</th>\n",
       "      <td>054620</td>\n",
       "      <td>KOSDAQ</td>\n",
       "      <td>APS홀딩스</td>\n",
       "      <td>기타 금융업</td>\n",
       "      <td>인터넷 트래픽 솔루션</td>\n",
       "      <td>2001-12-04</td>\n",
       "      <td>12월</td>\n",
       "      <td>정기로</td>\n",
       "      <td>http://www.apsholdings.co.kr</td>\n",
       "      <td>경기도</td>\n",
       "    </tr>\n",
       "    <tr>\n",
       "      <th>4</th>\n",
       "      <td>265520</td>\n",
       "      <td>KOSDAQ</td>\n",
       "      <td>AP시스템</td>\n",
       "      <td>특수 목적용 기계 제조업</td>\n",
       "      <td>디스플레이 제조 장비</td>\n",
       "      <td>2017-04-07</td>\n",
       "      <td>12월</td>\n",
       "      <td>김영주</td>\n",
       "      <td>http://www.apsystems.co.kr</td>\n",
       "      <td>경기도</td>\n",
       "    </tr>\n",
       "  </tbody>\n",
       "</table>\n",
       "</div>"
      ],
      "text/plain": [
       "   Symbol  Market    Name           Sector             Industry ListingDate  \\\n",
       "0  060310  KOSDAQ      3S         전자부품 제조업          반도체 웨이퍼 캐리어  2002-04-23   \n",
       "1  095570   KOSPI  AJ네트웍스  산업용 기계 및 장비 임대업  렌탈(파렛트, OA장비, 건설장비)  2015-08-21   \n",
       "2  006840   KOSPI   AK홀딩스           기타 금융업                 지주사업  1999-08-11   \n",
       "3  054620  KOSDAQ  APS홀딩스           기타 금융업          인터넷 트래픽 솔루션  2001-12-04   \n",
       "4  265520  KOSDAQ   AP시스템    특수 목적용 기계 제조업          디스플레이 제조 장비  2017-04-07   \n",
       "\n",
       "  SettleMonth     Representative                       HomePage Region  \n",
       "0         03월                김세완           http://www.3sref.com  서울특별시  \n",
       "1         12월           박대현, 손삼달         http://www.ajnet.co.kr  서울특별시  \n",
       "2         12월  채형석, 이석주(각자 대표이사)  http://www.aekyunggroup.co.kr  서울특별시  \n",
       "3         12월                정기로   http://www.apsholdings.co.kr    경기도  \n",
       "4         12월                김영주     http://www.apsystems.co.kr    경기도  "
      ]
     },
     "execution_count": 33,
     "metadata": {},
     "output_type": "execute_result"
    }
   ],
   "source": [
    "stocks = fdr.StockListing('krx') # KRX krx 대소문자 구별 안함 \n",
    "stocks.head(5)\n",
    "stocks.dropna(inplace=True) # 지표가 없는 것들 삭제 전처리 중"
   ]
  },
  {
   "cell_type": "code",
   "execution_count": null,
   "id": "5a0ce772",
   "metadata": {},
   "outputs": [],
   "source": [
    "base_url = \"https://search.itooza.com/search.htm?seName={}&jl=&search_ck=&sm=&sd=2021-08-09&ed=2021-09-08&ds_de=&page=&cpv=\"\n",
    "formatted_url = base_url.format('060310')# S3 의 주식 symbol {} 안에 들어 갈것 동적으로 입력합니다. \n",
    "html = requests.get(formatted_url).content\n",
    "\n",
    "soup = BeautifulSoup(html,'lxml')\n",
    "\n",
    "\n"
   ]
  },
  {
   "cell_type": "code",
   "execution_count": null,
   "id": "1d058148",
   "metadata": {},
   "outputs": [],
   "source": [
    "#beautifulsoup 파싱 방법, html.parser 설치 필요없고 중간 속, lxml 속도가 빠름 추가 설치 필요\n",
    "# html5lib 웹브라우저와 같은 방식으로 페이지 파싱 합니다. 느립니다. "
   ]
  },
  {
   "cell_type": "code",
   "execution_count": 41,
   "id": "ddec37eb",
   "metadata": {},
   "outputs": [
    {
     "ename": "IndentationError",
     "evalue": "unexpected indent (Temp/ipykernel_13816/2267984322.py, line 30)",
     "output_type": "error",
     "traceback": [
      "\u001b[1;36m  File \u001b[1;32m\"C:\\Users\\hong\\AppData\\Local\\Temp/ipykernel_13816/2267984322.py\"\u001b[1;36m, line \u001b[1;32m30\u001b[0m\n\u001b[1;33m    result['분기'] = idx\u001b[0m\n\u001b[1;37m    ^\u001b[0m\n\u001b[1;31mIndentationError\u001b[0m\u001b[1;31m:\u001b[0m unexpected indent\n"
     ]
    }
   ],
   "source": [
    "for code, name in stocks[:5][['Symbol','Name']].values: #[행][열] 여러개 담을때는 리스트 형태로 입력해 줘야 합니다. \n",
    "    print(code, name) # 테스트 용도로 출력\n",
    "    try:\n",
    "        url = base_url.format(code)\n",
    "        html = requests.get(url).content\n",
    "        soup = BeautifulSoup(html,'lxml')\n",
    "        break\n",
    "    except:\n",
    "        print('error')\n",
    "        time.sleep(15)\n",
    "#div[cl\"ass='[it-5s='ex']\"olute js-display-hover']\n",
    "    table = soup.select(\"table[class='ex']\")\n",
    "    \n",
    "    if table == None: # 없으면 할일이 없다 넘어감 \n",
    "        continue\n",
    "    \n",
    "    idx = [\"2021-2Q\",'2021-1Q'] # 인덱스 정의 \n",
    "    tbody = table.select_one('tbody')\n",
    "    t_row = tbody.select('tr')\n",
    "    \n",
    "    result_dic ={}\n",
    "    for tr in t_row:\n",
    "        col_name = tr.select_on('th').text\n",
    "        values = [td.text for td in tr.select('td')]\n",
    "        result_dic[col_name] = values\n",
    "    \n",
    "    result  = pd.DataFrame.from_dict(result_dic)\n",
    "    print(result)\n",
    "    result.drop('주가',axis=1,inplace=True) # 주가열 필요없\n",
    "     result['분기'] = idx\n",
    "    \n",
    "    if code == '060310': print(result) # 첫 루프를 돌 때만 result 출력\n",
    "\n",
    "    result.to_csv(name + \".csv\", index = False) # csv 파일로 저장. 파일 목록 확인해보기\n",
    "    \n",
    "    time.sleep(1) # 1초씩 재우기\n",
    "    \n",
    "    "
   ]
  },
  {
   "cell_type": "code",
   "execution_count": null,
   "id": "a5523b62",
   "metadata": {},
   "outputs": [],
   "source": []
  },
  {
   "cell_type": "code",
   "execution_count": null,
   "id": "6f894029",
   "metadata": {},
   "outputs": [],
   "source": []
  },
  {
   "cell_type": "code",
   "execution_count": null,
   "id": "c808db89",
   "metadata": {},
   "outputs": [],
   "source": []
  },
  {
   "cell_type": "code",
   "execution_count": null,
   "id": "f95994da",
   "metadata": {},
   "outputs": [],
   "source": []
  },
  {
   "cell_type": "code",
   "execution_count": null,
   "id": "c40f0931",
   "metadata": {},
   "outputs": [],
   "source": []
  },
  {
   "cell_type": "code",
   "execution_count": null,
   "id": "4f0a3c27",
   "metadata": {},
   "outputs": [],
   "source": []
  }
 ],
 "metadata": {
  "kernelspec": {
   "display_name": "Python 3 (ipykernel)",
   "language": "python",
   "name": "python3"
  },
  "language_info": {
   "codemirror_mode": {
    "name": "ipython",
    "version": 3
   },
   "file_extension": ".py",
   "mimetype": "text/x-python",
   "name": "python",
   "nbconvert_exporter": "python",
   "pygments_lexer": "ipython3",
   "version": "3.9.7"
  }
 },
 "nbformat": 4,
 "nbformat_minor": 5
}
